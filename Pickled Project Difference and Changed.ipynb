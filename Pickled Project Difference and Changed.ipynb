{
  "nbformat": 4,
  "nbformat_minor": 0,
  "metadata": {
    "colab": {
      "name": "Untitled",
      "version": "0.3.2",
      "provenance": [],
      "include_colab_link": true
    },
    "kernelspec": {
      "name": "python3",
      "display_name": "Python 3"
    }
  },
  "cells": [
    {
      "cell_type": "markdown",
      "metadata": {
        "id": "view-in-github",
        "colab_type": "text"
      },
      "source": [
        "<a href=\"https://colab.research.google.com/github/shanksghub/bitcoin/blob/master/Pickled%20Project%20Difference%20and%20Changed.ipynb\" target=\"_parent\"><img src=\"https://colab.research.google.com/assets/colab-badge.svg\" alt=\"Open In Colab\"/></a>"
      ]
    },
    {
      "cell_type": "code",
      "metadata": {
        "id": "l8ftKJ4iwF8B",
        "colab_type": "code",
        "colab": {}
      },
      "source": [
        "import pandas as pd\n",
        "import numpy as np\n",
        "import matplotlib.pyplot as plt\n",
        "import seaborn as sns\n",
        "%matplotlib inline"
      ],
      "execution_count": 0,
      "outputs": []
    },
    {
      "cell_type": "code",
      "metadata": {
        "id": "UFK7tiqOwQ-m",
        "colab_type": "code",
        "outputId": "ae26c50e-d12e-4f04-c4b0-44ed5c699320",
        "colab": {
          "base_uri": "https://localhost:8080/",
          "height": 206
        }
      },
      "source": [
        "url = 'https://raw.githubusercontent.com/shanksghub/bitcoin/master/convertcsv.csv'\n",
        "df = pd.read_csv(url, error_bad_lines=False)\n",
        "df.head()"
      ],
      "execution_count": 0,
      "outputs": [
        {
          "output_type": "execute_result",
          "data": {
            "text/html": [
              "<div>\n",
              "<style scoped>\n",
              "    .dataframe tbody tr th:only-of-type {\n",
              "        vertical-align: middle;\n",
              "    }\n",
              "\n",
              "    .dataframe tbody tr th {\n",
              "        vertical-align: top;\n",
              "    }\n",
              "\n",
              "    .dataframe thead th {\n",
              "        text-align: right;\n",
              "    }\n",
              "</style>\n",
              "<table border=\"1\" class=\"dataframe\">\n",
              "  <thead>\n",
              "    <tr style=\"text-align: right;\">\n",
              "      <th></th>\n",
              "      <th>Date</th>\n",
              "      <th>Open</th>\n",
              "      <th>High</th>\n",
              "      <th>Low</th>\n",
              "      <th>Close</th>\n",
              "      <th>Volume</th>\n",
              "      <th>Market Cap</th>\n",
              "    </tr>\n",
              "  </thead>\n",
              "  <tbody>\n",
              "    <tr>\n",
              "      <th>0</th>\n",
              "      <td>Jul 11, 2019</td>\n",
              "      <td>12139.713838</td>\n",
              "      <td>12144.622794</td>\n",
              "      <td>11158.922814</td>\n",
              "      <td>11358.661752</td>\n",
              "      <td>28595327690</td>\n",
              "      <td>202324174692</td>\n",
              "    </tr>\n",
              "    <tr>\n",
              "      <th>1</th>\n",
              "      <td>Jul 10, 2019</td>\n",
              "      <td>12571.537162</td>\n",
              "      <td>13129.528934</td>\n",
              "      <td>11710.978415</td>\n",
              "      <td>12156.512631</td>\n",
              "      <td>33627574244</td>\n",
              "      <td>216515999522</td>\n",
              "    </tr>\n",
              "    <tr>\n",
              "      <th>2</th>\n",
              "      <td>Jul 09, 2019</td>\n",
              "      <td>12284.326465</td>\n",
              "      <td>12779.132097</td>\n",
              "      <td>12233.262031</td>\n",
              "      <td>12573.812941</td>\n",
              "      <td>28167921523</td>\n",
              "      <td>223928128583</td>\n",
              "    </tr>\n",
              "    <tr>\n",
              "      <th>3</th>\n",
              "      <td>Jul 08, 2019</td>\n",
              "      <td>11446.597155</td>\n",
              "      <td>12345.833146</td>\n",
              "      <td>11393.374313</td>\n",
              "      <td>12285.958217</td>\n",
              "      <td>23482551458</td>\n",
              "      <td>218778355444</td>\n",
              "    </tr>\n",
              "    <tr>\n",
              "      <th>4</th>\n",
              "      <td>Jul 07, 2019</td>\n",
              "      <td>11217.615934</td>\n",
              "      <td>11541.619873</td>\n",
              "      <td>11148.804813</td>\n",
              "      <td>11450.846755</td>\n",
              "      <td>19369044277</td>\n",
              "      <td>203881891346</td>\n",
              "    </tr>\n",
              "  </tbody>\n",
              "</table>\n",
              "</div>"
            ],
            "text/plain": [
              "           Date          Open  ...       Volume    Market Cap\n",
              "0  Jul 11, 2019  12139.713838  ...  28595327690  202324174692\n",
              "1  Jul 10, 2019  12571.537162  ...  33627574244  216515999522\n",
              "2  Jul 09, 2019  12284.326465  ...  28167921523  223928128583\n",
              "3  Jul 08, 2019  11446.597155  ...  23482551458  218778355444\n",
              "4  Jul 07, 2019  11217.615934  ...  19369044277  203881891346\n",
              "\n",
              "[5 rows x 7 columns]"
            ]
          },
          "metadata": {
            "tags": []
          },
          "execution_count": 2
        }
      ]
    },
    {
      "cell_type": "code",
      "metadata": {
        "id": "DBikF2a5YNMV",
        "colab_type": "code",
        "colab": {
          "base_uri": "https://localhost:8080/",
          "height": 1000
        },
        "outputId": "84ae5c66-2c4d-45a0-b91e-035b4b0db31f"
      },
      "source": [
        "a = df.iloc[:,4]\n",
        "\n",
        "print(a)\n"
      ],
      "execution_count": 0,
      "outputs": [
        {
          "output_type": "stream",
          "text": [
            "0       11358.661752\n",
            "1       12156.512631\n",
            "2       12573.812941\n",
            "3       12285.958217\n",
            "4       11450.846755\n",
            "5       11208.550845\n",
            "6       10978.459952\n",
            "7       11215.437548\n",
            "8       11961.269341\n",
            "9       10801.677924\n",
            "10      10583.134519\n",
            "11      10817.155598\n",
            "12      11959.370976\n",
            "13      12407.331998\n",
            "14      11182.806286\n",
            "15      13016.231744\n",
            "16      11790.916533\n",
            "17      11011.102448\n",
            "18      10855.371016\n",
            "19      10701.691013\n",
            "20      10144.556717\n",
            "21       9527.160350\n",
            "22       9273.521766\n",
            "23       9081.762851\n",
            "24       9320.352183\n",
            "25       8994.488013\n",
            "26       8838.375234\n",
            "27       8693.832815\n",
            "28       8230.923831\n",
            "29       8145.857474\n",
            "            ...     \n",
            "2232      129.744995\n",
            "2233      133.479996\n",
            "2234      131.979996\n",
            "2235      133.199997\n",
            "2236      126.699997\n",
            "2237      123.889000\n",
            "2238      122.879997\n",
            "2239      122.000000\n",
            "2240      121.989998\n",
            "2241      123.498001\n",
            "2242      123.014999\n",
            "2243      118.760002\n",
            "2244      114.220001\n",
            "2245      111.500000\n",
            "2246      117.980003\n",
            "2247      115.000000\n",
            "2248      115.242996\n",
            "2249      117.199997\n",
            "2250      112.669998\n",
            "2251      113.566002\n",
            "2252      111.500000\n",
            "2253      112.300003\n",
            "2254      115.910004\n",
            "2255      112.500000\n",
            "2256       97.750000\n",
            "2257      105.209999\n",
            "2258      116.989998\n",
            "2259      139.000000\n",
            "2260      144.539993\n",
            "2261      134.210007\n",
            "Name: Close, Length: 2262, dtype: float64\n"
          ],
          "name": "stdout"
        }
      ]
    },
    {
      "cell_type": "code",
      "metadata": {
        "id": "9gRybzbpekq7",
        "colab_type": "code",
        "colab": {}
      },
      "source": [
        "b=a.diff()\n",
        "\n"
      ],
      "execution_count": 0,
      "outputs": []
    },
    {
      "cell_type": "code",
      "metadata": {
        "id": "-xfM46lHmuDu",
        "colab_type": "code",
        "colab": {
          "base_uri": "https://localhost:8080/",
          "height": 34
        },
        "outputId": "db29bd6a-834a-4f3c-9012-fa7d92db4c98"
      },
      "source": [
        ""
      ],
      "execution_count": 34,
      "outputs": [
        {
          "output_type": "stream",
          "text": [
            "()\n"
          ],
          "name": "stdout"
        }
      ]
    },
    {
      "cell_type": "code",
      "metadata": {
        "id": "ctKPVB_CY4xe",
        "colab_type": "code",
        "colab": {
          "base_uri": "https://localhost:8080/",
          "height": 86
        },
        "outputId": "5cf79a8c-f96c-485b-e551-7f4d305393a9"
      },
      "source": [
        "prices = a\n",
        "n_chanyed = 0\n",
        "n_changed = 0\n",
        "n_chaned = 0\n",
        "for i in range(len(prices)-1):\n",
        "    if prices[i] <= prices[i+1]:\n",
        "        n_changed +=1\n",
        "for i in range(len(prices)-1):\n",
        "    if prices[i] >= prices[i+1]:\n",
        "        n_chaned +=1\n",
        "\n",
        "for i in range(len(prices)-1):\n",
        "    if prices[i] <= prices[i+1]:\n",
        "        n_chanyed +=1\n",
        "\n",
        "        \n",
        "print(n_changed)\n",
        "\n",
        "print(n_chaned)\n",
        "print(n_changed)\n",
        "print(n_chanyed)\n",
        "     \n"
      ],
      "execution_count": 6,
      "outputs": [
        {
          "output_type": "stream",
          "text": [
            "1023\n",
            "1241\n",
            "1023\n",
            "1023\n"
          ],
          "name": "stdout"
        }
      ]
    },
    {
      "cell_type": "code",
      "metadata": {
        "id": "EyEj9CDkhTEV",
        "colab_type": "code",
        "colab": {}
      },
      "source": [
        "prices = [1, 43, 22, 32, 50,77,33,22,3,333,2222]\n",
        "\n",
        "n_changed = 0\n",
        "n_chaned = 0\n",
        "for i in range(len(prices)-1):\n",
        "    if prices[i] <= prices[i+1]:\n",
        "        n_changed +=1\n",
        "for i in range(len(prices)-1):\n",
        "    if prices[i] >= prices[i+1]:\n",
        "        n_chaned +=1\n",
        "\n",
        "        \n",
        "        \n",
        "print(n_changed)\n",
        "\n",
        "print(n_chaned)"
      ],
      "execution_count": 0,
      "outputs": []
    },
    {
      "cell_type": "code",
      "metadata": {
        "id": "l3PkjHZEahuR",
        "colab_type": "code",
        "colab": {}
      },
      "source": [
        "def StockPicker(arr):\n",
        "  max_profit = -1 \n",
        "  buy_price = 0 \n",
        "  sell_price = 0\n",
        "  arr = a\n",
        "# this allows our loop to keep iterating the buying \n",
        "# price until a cheap stock price is found \n",
        "# loop through list of stock prices once \n",
        "  for i in range(0, len(arr)-1):\n",
        "# selling price is the next element in list \n",
        "    sell_price = arr[i+1]\n",
        "# if we have not found a suitable cheap buying price yet # we set the buying price equal to the current element \n",
        "    if change_buy_index:\n",
        "      buy_price = arr[i]\n",
        "# if the selling price is less than the buying price # we know we cannot make a profit so we continue to the # next element in the list which will be the new buying price \n",
        "      if sell_price < buy_price: \n",
        "                change_buy_index = True \n",
        "                continue\n",
        "# if the selling price is greater than the buying price # we check to see if these two indices give us a better # profit then what we currently have \n",
        "      else: temp_profit = sell_price - buy_price \n",
        "  if temp_profit > max_profit: \n",
        "    max_profit = temp_profit \n",
        "  change_buy_index = False\n",
        "  return max_profit\n",
        "  \n",
        "  print(max_profit)"
      ],
      "execution_count": 0,
      "outputs": []
    },
    {
      "cell_type": "code",
      "metadata": {
        "id": "oza_GfRYzCrJ",
        "colab_type": "code",
        "colab": {}
      },
      "source": [
        "df.head()\n",
        "\n",
        "df.loc[:,'Date']"
      ],
      "execution_count": 0,
      "outputs": []
    },
    {
      "cell_type": "code",
      "metadata": {
        "id": "vekR1vPLQFJn",
        "colab_type": "code",
        "colab": {}
      },
      "source": [
        "from sklearn.preprocessing import LabelEncoder\n",
        "import numpy as np \n",
        "from matplotlib import pyplot as plt\n",
        "import pandas as pd \n",
        "url = 'https://raw.githubusercontent.com/shanksghub/bitcoin/master/convertcsv.csv'\n",
        "df= pd.read_csv(url) \n",
        "X=df['Date']\n",
        "y = df['Market Cap']\n",
        "le= LabelEncoder() \n",
        "X= le.fit_transform(X)\n",
        "X=x.reshape(2262,1)\n",
        "from sklearn.model_selection import train_test_split\n",
        "X_train, X_test, y_train, y_test = train_test_split(X, y, test_size=0.3, random_state=101)\n",
        "\n",
        "from sklearn.linear_model import LinearRegression\n",
        "\n",
        "lm = LinearRegression(fit_intercept=False, normalize=True)\n",
        "lm.fit(X_train,y_train)\n",
        "print('Coefficients: \\n', lm.coef_)\n",
        "\n",
        "predictions = lm.predict( X_test)\n",
        "\n",
        "plt.scatter(y_test,predictions)\n",
        "plt.xlabel('Y Test')\n",
        "plt.ylabel('Predicted Y')"
      ],
      "execution_count": 0,
      "outputs": []
    },
    {
      "cell_type": "code",
      "metadata": {
        "id": "ZLcqyIZ72kTd",
        "colab_type": "code",
        "colab": {}
      },
      "source": [
        "print('Coefficients: \\n', lm.coef_)\n",
        "\n",
        "predictions = lm.predict( X_test)\n",
        "\n",
        "plt.scatter(y_test,predictions)\n",
        "plt.xlabel('Y Test')\n",
        "plt.ylabel('Predicted Y')"
      ],
      "execution_count": 0,
      "outputs": []
    },
    {
      "cell_type": "code",
      "metadata": {
        "id": "Dlhyp4Iw2vBD",
        "colab_type": "code",
        "colab": {}
      },
      "source": [
        "from sklearn import metrics\n",
        "\n",
        "print('MAE:', metrics.mean_absolute_error(y_test, predictions))\n",
        "print('MSE:', metrics.mean_squared_error(y_test, predictions))\n",
        "print('RMSE:', np.sqrt(metrics.mean_squared_error(y_test, predictions)))"
      ],
      "execution_count": 0,
      "outputs": []
    },
    {
      "cell_type": "code",
      "metadata": {
        "id": "j9uVdTrjRaZp",
        "colab_type": "code",
        "colab": {}
      },
      "source": [
        ""
      ],
      "execution_count": 0,
      "outputs": []
    },
    {
      "cell_type": "code",
      "metadata": {
        "id": "C99Rwl1wRajV",
        "colab_type": "code",
        "colab": {}
      },
      "source": [
        "\n",
        "import pickle \n",
        "  \n",
        "# Save the trained model as a pickle string. \n",
        "saved_model = pickle.dumps(lm) \n",
        "  \n",
        "# Load the pickled model \n",
        "lm_from_pickle = pickle.loads(saved_model) \n",
        "  \n",
        "# Use the loaded pickled model to make predictions \n",
        "lm_from_pickle.predict(X_test) \n"
      ],
      "execution_count": 0,
      "outputs": []
    }
  ]
}