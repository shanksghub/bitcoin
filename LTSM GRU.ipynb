{
  "nbformat": 4,
  "nbformat_minor": 0,
  "metadata": {
    "colab": {
      "name": "Untitled67.ipynb",
      "version": "0.3.2",
      "provenance": [],
      "include_colab_link": true
    },
    "kernelspec": {
      "name": "python3",
      "display_name": "Python 3"
    }
  },
  "cells": [
    {
      "cell_type": "markdown",
      "metadata": {
        "id": "view-in-github",
        "colab_type": "text"
      },
      "source": [
        "<a href=\"https://colab.research.google.com/github/shanksghub/bitcoin/blob/master/LTSM%20GRU.ipynb\" target=\"_parent\"><img src=\"https://colab.research.google.com/assets/colab-badge.svg\" alt=\"Open In Colab\"/></a>"
      ]
    },
    {
      "cell_type": "code",
      "metadata": {
        "id": "gqq2GsACRnXu",
        "colab_type": "code",
        "colab": {
          "base_uri": "https://localhost:8080/",
          "height": 34
        },
        "outputId": "31a466cf-844c-489e-c0c8-eb193ad2038e"
      },
      "source": [
        "import numpy as np\n",
        "import pandas as pd\n",
        "import matplotlib.pyplot as plt\n",
        "import math\n",
        "\n",
        "from sklearn.preprocessing import MinMaxScaler\n",
        "from sklearn.metrics import mean_squared_error\n",
        "\n",
        "from keras.models import Sequential\n",
        "from keras.layers import Dense\n",
        "from keras.layers import LSTM\n",
        "\n",
        "url = 'https://raw.githubusercontent.com/shanksghub/bitcoin/master/convertcsv.csv'\n",
        "df = pd.read_csv(url, error_bad_lines=False)\n",
        "df.head()\n",
        "\n",
        "a= df.drop(columns=['Date'])"
      ],
      "execution_count": 2,
      "outputs": [
        {
          "output_type": "stream",
          "text": [
            "Using TensorFlow backend.\n"
          ],
          "name": "stderr"
        }
      ]
    },
    {
      "cell_type": "code",
      "metadata": {
        "id": "c_54riS9WqpF",
        "colab_type": "code",
        "outputId": "3fbe2ad8-5e5a-498f-8a04-025c0e5aac0c",
        "colab": {
          "base_uri": "https://localhost:8080/",
          "height": 139
        }
      },
      "source": [
        "df = df[['Close']]\n",
        "\n",
        "\n",
        "dataset = df.values\n",
        "dataset = dataset.astype('float32')\n",
        "\n",
        "dataset\n"
      ],
      "execution_count": 3,
      "outputs": [
        {
          "output_type": "execute_result",
          "data": {
            "text/plain": [
              "array([[11358.662 ],\n",
              "       [12156.513 ],\n",
              "       [12573.8125],\n",
              "       ...,\n",
              "       [  139.    ],\n",
              "       [  144.54  ],\n",
              "       [  134.21  ]], dtype=float32)"
            ]
          },
          "metadata": {
            "tags": []
          },
          "execution_count": 3
        }
      ]
    },
    {
      "cell_type": "code",
      "metadata": {
        "id": "7MsGI4dnXXKE",
        "colab_type": "code",
        "colab": {}
      },
      "source": [
        "scaler = MinMaxScaler(feature_range=(0, 1))\n",
        "dataset = scaler.fit_transform(dataset)\n"
      ],
      "execution_count": 0,
      "outputs": []
    },
    {
      "cell_type": "code",
      "metadata": {
        "id": "fhrOFLh2XZ7r",
        "colab_type": "code",
        "outputId": "2a6767c5-0de5-43a5-f3eb-c526230a8873",
        "colab": {
          "base_uri": "https://localhost:8080/",
          "height": 139
        }
      },
      "source": [
        "dataset\n"
      ],
      "execution_count": 5,
      "outputs": [
        {
          "output_type": "execute_result",
          "data": {
            "text/plain": [
              "array([[0.58110297],\n",
              "       [0.62216794],\n",
              "       [0.6436462 ],\n",
              "       ...,\n",
              "       [0.00363215],\n",
              "       [0.00391729],\n",
              "       [0.00338561]], dtype=float32)"
            ]
          },
          "metadata": {
            "tags": []
          },
          "execution_count": 5
        }
      ]
    },
    {
      "cell_type": "code",
      "metadata": {
        "id": "vmVuvyA6Xd2M",
        "colab_type": "code",
        "outputId": "1d3536ac-e9de-420a-b10a-9db45ac2a2de",
        "colab": {
          "base_uri": "https://localhost:8080/",
          "height": 34
        }
      },
      "source": [
        "train_size = int(len(dataset) * 0.67)\n",
        "test_size = len(dataset) - train_size\n",
        "train, test = dataset[0:train_size, :], dataset[train_size:len(dataset), :]\n",
        "print(len(train), len(test))"
      ],
      "execution_count": 6,
      "outputs": [
        {
          "output_type": "stream",
          "text": [
            "1515 747\n"
          ],
          "name": "stdout"
        }
      ]
    },
    {
      "cell_type": "code",
      "metadata": {
        "id": "ulPObFPsXkEV",
        "colab_type": "code",
        "colab": {}
      },
      "source": [
        "# convert an array of values into a dataset matrix\n",
        "def create_dataset(dataset, look_back=1):\n",
        "  dataX, dataY = [], []\n",
        "  for i in range(len(dataset)-look_back-1):\n",
        "    a = dataset[i:(i+look_back), 0]\n",
        "    dataX.append(a)\n",
        "    dataY.append(dataset[i + look_back, 0])\n",
        "  return np.array(dataX), np.array(dataY)"
      ],
      "execution_count": 0,
      "outputs": []
    },
    {
      "cell_type": "code",
      "metadata": {
        "id": "SEtH6NEvXlrl",
        "colab_type": "code",
        "colab": {}
      },
      "source": [
        "look_back = 10\n",
        "trainX, trainY = create_dataset(train, look_back=look_back)\n",
        "testX, testY = create_dataset(test, look_back=look_back)"
      ],
      "execution_count": 0,
      "outputs": []
    },
    {
      "cell_type": "code",
      "metadata": {
        "id": "xTEExMAEXqNa",
        "colab_type": "code",
        "outputId": "1cdf0514-5b9c-4010-a6ad-4800d3cc889b",
        "colab": {
          "base_uri": "https://localhost:8080/",
          "height": 243
        }
      },
      "source": [
        "trainX\n"
      ],
      "execution_count": 9,
      "outputs": [
        {
          "output_type": "execute_result",
          "data": {
            "text/plain": [
              "array([[0.58110297, 0.62216794, 0.6436462 , ..., 0.57373124, 0.6121189 ,\n",
              "        0.5524352 ],\n",
              "       [0.62216794, 0.6436462 , 0.62883043, ..., 0.6121189 , 0.5524352 ,\n",
              "        0.5411869 ],\n",
              "       [0.6436462 , 0.62883043, 0.5858477 , ..., 0.5524352 , 0.5411869 ,\n",
              "        0.55323184],\n",
              "       ...,\n",
              "       [0.00868111, 0.00869717, 0.00869073, ..., 0.00884849, 0.00859093,\n",
              "        0.00852269],\n",
              "       [0.00869717, 0.00869073, 0.00868214, ..., 0.00859093, 0.00852269,\n",
              "        0.00841609],\n",
              "       [0.00869073, 0.00868214, 0.00868183, ..., 0.00852269, 0.00841609,\n",
              "        0.00847688]], dtype=float32)"
            ]
          },
          "metadata": {
            "tags": []
          },
          "execution_count": 9
        }
      ]
    },
    {
      "cell_type": "code",
      "metadata": {
        "id": "FyvKZycEXs-X",
        "colab_type": "code",
        "outputId": "8816ca08-9a16-42d6-bc83-19fc2b5adfe2",
        "colab": {
          "base_uri": "https://localhost:8080/",
          "height": 52
        }
      },
      "source": [
        "trainY"
      ],
      "execution_count": 10,
      "outputs": [
        {
          "output_type": "execute_result",
          "data": {
            "text/plain": [
              "array([0.5411869 , 0.55323184, 0.61202115, ..., 0.00841609, 0.00847688,\n",
              "       0.00866598], dtype=float32)"
            ]
          },
          "metadata": {
            "tags": []
          },
          "execution_count": 10
        }
      ]
    },
    {
      "cell_type": "code",
      "metadata": {
        "id": "jyDmuGYIXwcg",
        "colab_type": "code",
        "colab": {}
      },
      "source": [
        "# reshape input to be [samples, time steps, features]\n",
        "trainX = np.reshape(trainX, (trainX.shape[0], 1, trainX.shape[1]))\n",
        "testX = np.reshape(testX, (testX.shape[0], 1, testX.shape[1]))"
      ],
      "execution_count": 0,
      "outputs": []
    },
    {
      "cell_type": "code",
      "metadata": {
        "id": "0KgaZLg8XxQQ",
        "colab_type": "code",
        "outputId": "c469b67c-70e2-4317-a0fe-d34c89fb33e1",
        "colab": {
          "base_uri": "https://localhost:8080/",
          "height": 1000
        }
      },
      "source": [
        "model = Sequential()\n",
        "model.add(LSTM(4, input_shape=(1, 10)))\n",
        "model.add(Dense(1))\n",
        "model.compile(loss='mean_squared_error', optimizer='adam')\n",
        "model.fit(trainX, trainY, epochs=100, batch_size=256, verbose=2)"
      ],
      "execution_count": 12,
      "outputs": [
        {
          "output_type": "stream",
          "text": [
            "WARNING: Logging before flag parsing goes to stderr.\n",
            "W0805 11:03:08.608959 139992483530624 deprecation_wrapper.py:119] From /usr/local/lib/python3.6/dist-packages/keras/backend/tensorflow_backend.py:74: The name tf.get_default_graph is deprecated. Please use tf.compat.v1.get_default_graph instead.\n",
            "\n",
            "W0805 11:03:08.653751 139992483530624 deprecation_wrapper.py:119] From /usr/local/lib/python3.6/dist-packages/keras/backend/tensorflow_backend.py:517: The name tf.placeholder is deprecated. Please use tf.compat.v1.placeholder instead.\n",
            "\n",
            "W0805 11:03:08.664129 139992483530624 deprecation_wrapper.py:119] From /usr/local/lib/python3.6/dist-packages/keras/backend/tensorflow_backend.py:4138: The name tf.random_uniform is deprecated. Please use tf.random.uniform instead.\n",
            "\n",
            "W0805 11:03:08.916340 139992483530624 deprecation_wrapper.py:119] From /usr/local/lib/python3.6/dist-packages/keras/optimizers.py:790: The name tf.train.Optimizer is deprecated. Please use tf.compat.v1.train.Optimizer instead.\n",
            "\n",
            "W0805 11:03:09.166037 139992483530624 deprecation.py:323] From /usr/local/lib/python3.6/dist-packages/tensorflow/python/ops/math_grad.py:1250: add_dispatch_support.<locals>.wrapper (from tensorflow.python.ops.array_ops) is deprecated and will be removed in a future version.\n",
            "Instructions for updating:\n",
            "Use tf.where in 2.0, which has the same broadcast rule as np.where\n",
            "W0805 11:03:09.673291 139992483530624 deprecation_wrapper.py:119] From /usr/local/lib/python3.6/dist-packages/keras/backend/tensorflow_backend.py:986: The name tf.assign_add is deprecated. Please use tf.compat.v1.assign_add instead.\n",
            "\n",
            "W0805 11:03:09.758857 139992483530624 deprecation_wrapper.py:119] From /usr/local/lib/python3.6/dist-packages/keras/backend/tensorflow_backend.py:973: The name tf.assign is deprecated. Please use tf.compat.v1.assign instead.\n",
            "\n"
          ],
          "name": "stderr"
        },
        {
          "output_type": "stream",
          "text": [
            "Epoch 1/100\n",
            " - 1s - loss: 0.0526\n",
            "Epoch 2/100\n",
            " - 0s - loss: 0.0435\n",
            "Epoch 3/100\n",
            " - 0s - loss: 0.0351\n",
            "Epoch 4/100\n",
            " - 0s - loss: 0.0282\n",
            "Epoch 5/100\n",
            " - 0s - loss: 0.0225\n",
            "Epoch 6/100\n",
            " - 0s - loss: 0.0176\n",
            "Epoch 7/100\n",
            " - 0s - loss: 0.0140\n",
            "Epoch 8/100\n",
            " - 0s - loss: 0.0110\n",
            "Epoch 9/100\n",
            " - 0s - loss: 0.0090\n",
            "Epoch 10/100\n",
            " - 0s - loss: 0.0074\n",
            "Epoch 11/100\n",
            " - 0s - loss: 0.0063\n",
            "Epoch 12/100\n",
            " - 0s - loss: 0.0055\n",
            "Epoch 13/100\n",
            " - 0s - loss: 0.0049\n",
            "Epoch 14/100\n",
            " - 0s - loss: 0.0044\n",
            "Epoch 15/100\n",
            " - 0s - loss: 0.0040\n",
            "Epoch 16/100\n",
            " - 0s - loss: 0.0037\n",
            "Epoch 17/100\n",
            " - 0s - loss: 0.0034\n",
            "Epoch 18/100\n",
            " - 0s - loss: 0.0031\n",
            "Epoch 19/100\n",
            " - 0s - loss: 0.0029\n",
            "Epoch 20/100\n",
            " - 0s - loss: 0.0026\n",
            "Epoch 21/100\n",
            " - 0s - loss: 0.0024\n",
            "Epoch 22/100\n",
            " - 0s - loss: 0.0022\n",
            "Epoch 23/100\n",
            " - 0s - loss: 0.0021\n",
            "Epoch 24/100\n",
            " - 0s - loss: 0.0019\n",
            "Epoch 25/100\n",
            " - 0s - loss: 0.0018\n",
            "Epoch 26/100\n",
            " - 0s - loss: 0.0017\n",
            "Epoch 27/100\n",
            " - 0s - loss: 0.0016\n",
            "Epoch 28/100\n",
            " - 0s - loss: 0.0015\n",
            "Epoch 29/100\n",
            " - 0s - loss: 0.0015\n",
            "Epoch 30/100\n",
            " - 0s - loss: 0.0014\n",
            "Epoch 31/100\n",
            " - 0s - loss: 0.0013\n",
            "Epoch 32/100\n",
            " - 0s - loss: 0.0013\n",
            "Epoch 33/100\n",
            " - 0s - loss: 0.0013\n",
            "Epoch 34/100\n",
            " - 0s - loss: 0.0012\n",
            "Epoch 35/100\n",
            " - 0s - loss: 0.0012\n",
            "Epoch 36/100\n",
            " - 0s - loss: 0.0012\n",
            "Epoch 37/100\n",
            " - 0s - loss: 0.0012\n",
            "Epoch 38/100\n",
            " - 0s - loss: 0.0012\n",
            "Epoch 39/100\n",
            " - 0s - loss: 0.0012\n",
            "Epoch 40/100\n",
            " - 0s - loss: 0.0011\n",
            "Epoch 41/100\n",
            " - 0s - loss: 0.0011\n",
            "Epoch 42/100\n",
            " - 0s - loss: 0.0011\n",
            "Epoch 43/100\n",
            " - 0s - loss: 0.0011\n",
            "Epoch 44/100\n",
            " - 0s - loss: 0.0011\n",
            "Epoch 45/100\n",
            " - 0s - loss: 0.0011\n",
            "Epoch 46/100\n",
            " - 0s - loss: 0.0011\n",
            "Epoch 47/100\n",
            " - 0s - loss: 0.0011\n",
            "Epoch 48/100\n",
            " - 0s - loss: 0.0011\n",
            "Epoch 49/100\n",
            " - 0s - loss: 0.0011\n",
            "Epoch 50/100\n",
            " - 0s - loss: 0.0011\n",
            "Epoch 51/100\n",
            " - 0s - loss: 0.0011\n",
            "Epoch 52/100\n",
            " - 0s - loss: 0.0011\n",
            "Epoch 53/100\n",
            " - 0s - loss: 0.0011\n",
            "Epoch 54/100\n",
            " - 0s - loss: 0.0011\n",
            "Epoch 55/100\n",
            " - 0s - loss: 0.0011\n",
            "Epoch 56/100\n",
            " - 0s - loss: 0.0011\n",
            "Epoch 57/100\n",
            " - 0s - loss: 0.0010\n",
            "Epoch 58/100\n",
            " - 0s - loss: 0.0010\n",
            "Epoch 59/100\n",
            " - 0s - loss: 0.0010\n",
            "Epoch 60/100\n",
            " - 0s - loss: 0.0010\n",
            "Epoch 61/100\n",
            " - 0s - loss: 0.0010\n",
            "Epoch 62/100\n",
            " - 0s - loss: 0.0010\n",
            "Epoch 63/100\n",
            " - 0s - loss: 0.0010\n",
            "Epoch 64/100\n",
            " - 0s - loss: 0.0010\n",
            "Epoch 65/100\n",
            " - 0s - loss: 0.0010\n",
            "Epoch 66/100\n",
            " - 0s - loss: 0.0010\n",
            "Epoch 67/100\n",
            " - 0s - loss: 0.0010\n",
            "Epoch 68/100\n",
            " - 0s - loss: 0.0010\n",
            "Epoch 69/100\n",
            " - 0s - loss: 9.9675e-04\n",
            "Epoch 70/100\n",
            " - 0s - loss: 9.9256e-04\n",
            "Epoch 71/100\n",
            " - 0s - loss: 9.8835e-04\n",
            "Epoch 72/100\n",
            " - 0s - loss: 9.8394e-04\n",
            "Epoch 73/100\n",
            " - 0s - loss: 9.7979e-04\n",
            "Epoch 74/100\n",
            " - 0s - loss: 9.7558e-04\n",
            "Epoch 75/100\n",
            " - 0s - loss: 9.7168e-04\n",
            "Epoch 76/100\n",
            " - 0s - loss: 9.6750e-04\n",
            "Epoch 77/100\n",
            " - 0s - loss: 9.6385e-04\n",
            "Epoch 78/100\n",
            " - 0s - loss: 9.5974e-04\n",
            "Epoch 79/100\n",
            " - 0s - loss: 9.5584e-04\n",
            "Epoch 80/100\n",
            " - 0s - loss: 9.5207e-04\n",
            "Epoch 81/100\n",
            " - 0s - loss: 9.4767e-04\n",
            "Epoch 82/100\n",
            " - 0s - loss: 9.4439e-04\n",
            "Epoch 83/100\n",
            " - 0s - loss: 9.4039e-04\n",
            "Epoch 84/100\n",
            " - 0s - loss: 9.3630e-04\n",
            "Epoch 85/100\n",
            " - 0s - loss: 9.3244e-04\n",
            "Epoch 86/100\n",
            " - 0s - loss: 9.2831e-04\n",
            "Epoch 87/100\n",
            " - 0s - loss: 9.2479e-04\n",
            "Epoch 88/100\n",
            " - 0s - loss: 9.2090e-04\n",
            "Epoch 89/100\n",
            " - 0s - loss: 9.1765e-04\n",
            "Epoch 90/100\n",
            " - 0s - loss: 9.1340e-04\n",
            "Epoch 91/100\n",
            " - 0s - loss: 9.0991e-04\n",
            "Epoch 92/100\n",
            " - 0s - loss: 9.0616e-04\n",
            "Epoch 93/100\n",
            " - 0s - loss: 9.0246e-04\n",
            "Epoch 94/100\n",
            " - 0s - loss: 8.9888e-04\n",
            "Epoch 95/100\n",
            " - 0s - loss: 8.9499e-04\n",
            "Epoch 96/100\n",
            " - 0s - loss: 8.9117e-04\n",
            "Epoch 97/100\n",
            " - 0s - loss: 8.8780e-04\n",
            "Epoch 98/100\n",
            " - 0s - loss: 8.8424e-04\n",
            "Epoch 99/100\n",
            " - 0s - loss: 8.8062e-04\n",
            "Epoch 100/100\n",
            " - 0s - loss: 8.7705e-04\n"
          ],
          "name": "stdout"
        },
        {
          "output_type": "execute_result",
          "data": {
            "text/plain": [
              "<keras.callbacks.History at 0x7f5247a7d208>"
            ]
          },
          "metadata": {
            "tags": []
          },
          "execution_count": 12
        }
      ]
    },
    {
      "cell_type": "code",
      "metadata": {
        "id": "K1tq-5kxX1En",
        "colab_type": "code",
        "colab": {}
      },
      "source": [
        "trainPredict = model.predict(trainX)\n",
        "testPredict = model.predict(testX)\n"
      ],
      "execution_count": 0,
      "outputs": []
    },
    {
      "cell_type": "code",
      "metadata": {
        "id": "mc9Nd0cTX10A",
        "colab_type": "code",
        "colab": {}
      },
      "source": [
        "trainPredict = scaler.inverse_transform(trainPredict)\n",
        "trainY = scaler.inverse_transform([trainY])\n",
        "testPredict = scaler.inverse_transform(testPredict)\n",
        "testY = scaler.inverse_transform([testY])"
      ],
      "execution_count": 0,
      "outputs": []
    },
    {
      "cell_type": "code",
      "metadata": {
        "id": "k855DJxtX5Vm",
        "colab_type": "code",
        "outputId": "26d887cd-4490-457b-c02e-5a4aa4f3ce1a",
        "colab": {
          "base_uri": "https://localhost:8080/",
          "height": 52
        }
      },
      "source": [
        "trainScore = math.sqrt(mean_squared_error(trainY[0], trainPredict[:, 0]))\n",
        "print('Train Score: %.2f RMSE' % (trainScore))\n",
        "testScore = math.sqrt(mean_squared_error(testY[0], testPredict[:, 0]))\n",
        "print('Test Score: %.2f RMSE' % (testScore))"
      ],
      "execution_count": 15,
      "outputs": [
        {
          "output_type": "stream",
          "text": [
            "Train Score: 574.63 RMSE\n",
            "Test Score: 104.91 RMSE\n"
          ],
          "name": "stdout"
        }
      ]
    },
    {
      "cell_type": "code",
      "metadata": {
        "id": "NlewKWAHX8Qj",
        "colab_type": "code",
        "colab": {}
      },
      "source": [
        "# shift train predictions for plotting\n",
        "trainPredictPlot = np.empty_like(dataset)\n",
        "trainPredictPlot[:, :] = np.nan\n",
        "trainPredictPlot[look_back:len(trainPredict) + look_back, :] = trainPredict"
      ],
      "execution_count": 0,
      "outputs": []
    },
    {
      "cell_type": "code",
      "metadata": {
        "id": "6qOaw2EqX-jQ",
        "colab_type": "code",
        "colab": {}
      },
      "source": [
        "# shift test predictions for plotting\n",
        "testPredictPlot = np.empty_like(dataset)\n",
        "testPredictPlot[:, :] = np.nan\n",
        "testPredictPlot[len(trainPredict) + (look_back * 2) + 1:len(dataset) - 1, :] = testPredict"
      ],
      "execution_count": 0,
      "outputs": []
    },
    {
      "cell_type": "code",
      "metadata": {
        "id": "U9mToR8UYAl0",
        "colab_type": "code",
        "outputId": "21a99fbf-e8bf-4c81-fa4b-51ad400af593",
        "colab": {
          "base_uri": "https://localhost:8080/",
          "height": 269
        }
      },
      "source": [
        "plt.plot(df['Close'], label='Actual')\n",
        "plt.plot(pd.DataFrame(trainPredictPlot, columns=[\"close\"], index=df.index).close, label='Training')\n",
        "plt.plot(pd.DataFrame(testPredictPlot, columns=[\"close\"], index=df.index).close, label='Testing')\n",
        "plt.legend(loc='best')\n",
        "plt.show()"
      ],
      "execution_count": 18,
      "outputs": [
        {
          "output_type": "display_data",
          "data": {
            "image/png": "[encoded data removed]",
            "text/plain": [
              "<Figure size 432x288 with 1 Axes>"
            ]
          },
          "metadata": {
            "tags": []
          }
        }
      ]
    }
  ]
}