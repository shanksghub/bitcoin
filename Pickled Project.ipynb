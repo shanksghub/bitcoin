{
  "nbformat": 4,
  "nbformat_minor": 0,
  "metadata": {
    "colab": {
      "name": "Untitled",
      "version": "0.3.2",
      "provenance": [],
      "include_colab_link": true
    },
    "kernelspec": {
      "name": "python3",
      "display_name": "Python 3"
    }
  },
  "cells": [
    {
      "cell_type": "markdown",
      "metadata": {
        "id": "view-in-github",
        "colab_type": "text"
      },
      "source": [
        "<a href=\"https://colab.research.google.com/github/shanksghub/bitcoin/blob/master/Pickled%20Project.ipynb\" target=\"_parent\"><img src=\"https://colab.research.google.com/assets/colab-badge.svg\" alt=\"Open In Colab\"/></a>"
      ]
    },
    {
      "cell_type": "code",
      "metadata": {
        "id": "l8ftKJ4iwF8B",
        "colab_type": "code",
        "colab": {}
      },
      "source": [
        "import pandas as pd\n",
        "import numpy as np\n",
        "import matplotlib.pyplot as plt\n",
        "import seaborn as sns\n",
        "%matplotlib inline"
      ],
      "execution_count": 0,
      "outputs": []
    },
    {
      "cell_type": "code",
      "metadata": {
        "id": "UFK7tiqOwQ-m",
        "colab_type": "code",
        "outputId": "5fcc99ec-e288-49d6-a7bb-01e8bb193648",
        "colab": {
          "base_uri": "https://localhost:8080/",
          "height": 206
        }
      },
      "source": [
        "url = 'https://raw.githubusercontent.com/shanksghub/bitcoin/master/convertcsv.csv'\n",
        "df = pd.read_csv(url, error_bad_lines=False)\n",
        "df.head()"
      ],
      "execution_count": 7,
      "outputs": [
        {
          "output_type": "execute_result",
          "data": {
            "text/html": [
              "<div>\n",
              "<style scoped>\n",
              "    .dataframe tbody tr th:only-of-type {\n",
              "        vertical-align: middle;\n",
              "    }\n",
              "\n",
              "    .dataframe tbody tr th {\n",
              "        vertical-align: top;\n",
              "    }\n",
              "\n",
              "    .dataframe thead th {\n",
              "        text-align: right;\n",
              "    }\n",
              "</style>\n",
              "<table border=\"1\" class=\"dataframe\">\n",
              "  <thead>\n",
              "    <tr style=\"text-align: right;\">\n",
              "      <th></th>\n",
              "      <th>Date</th>\n",
              "      <th>Open</th>\n",
              "      <th>High</th>\n",
              "      <th>Low</th>\n",
              "      <th>Close</th>\n",
              "      <th>Volume</th>\n",
              "      <th>Market Cap</th>\n",
              "    </tr>\n",
              "  </thead>\n",
              "  <tbody>\n",
              "    <tr>\n",
              "      <th>0</th>\n",
              "      <td>Jul 11, 2019</td>\n",
              "      <td>12139.713838</td>\n",
              "      <td>12144.622794</td>\n",
              "      <td>11158.922814</td>\n",
              "      <td>11358.661752</td>\n",
              "      <td>28595327690</td>\n",
              "      <td>202324174692</td>\n",
              "    </tr>\n",
              "    <tr>\n",
              "      <th>1</th>\n",
              "      <td>Jul 10, 2019</td>\n",
              "      <td>12571.537162</td>\n",
              "      <td>13129.528934</td>\n",
              "      <td>11710.978415</td>\n",
              "      <td>12156.512631</td>\n",
              "      <td>33627574244</td>\n",
              "      <td>216515999522</td>\n",
              "    </tr>\n",
              "    <tr>\n",
              "      <th>2</th>\n",
              "      <td>Jul 09, 2019</td>\n",
              "      <td>12284.326465</td>\n",
              "      <td>12779.132097</td>\n",
              "      <td>12233.262031</td>\n",
              "      <td>12573.812941</td>\n",
              "      <td>28167921523</td>\n",
              "      <td>223928128583</td>\n",
              "    </tr>\n",
              "    <tr>\n",
              "      <th>3</th>\n",
              "      <td>Jul 08, 2019</td>\n",
              "      <td>11446.597155</td>\n",
              "      <td>12345.833146</td>\n",
              "      <td>11393.374313</td>\n",
              "      <td>12285.958217</td>\n",
              "      <td>23482551458</td>\n",
              "      <td>218778355444</td>\n",
              "    </tr>\n",
              "    <tr>\n",
              "      <th>4</th>\n",
              "      <td>Jul 07, 2019</td>\n",
              "      <td>11217.615934</td>\n",
              "      <td>11541.619873</td>\n",
              "      <td>11148.804813</td>\n",
              "      <td>11450.846755</td>\n",
              "      <td>19369044277</td>\n",
              "      <td>203881891346</td>\n",
              "    </tr>\n",
              "  </tbody>\n",
              "</table>\n",
              "</div>"
            ],
            "text/plain": [
              "           Date          Open  ...       Volume    Market Cap\n",
              "0  Jul 11, 2019  12139.713838  ...  28595327690  202324174692\n",
              "1  Jul 10, 2019  12571.537162  ...  33627574244  216515999522\n",
              "2  Jul 09, 2019  12284.326465  ...  28167921523  223928128583\n",
              "3  Jul 08, 2019  11446.597155  ...  23482551458  218778355444\n",
              "4  Jul 07, 2019  11217.615934  ...  19369044277  203881891346\n",
              "\n",
              "[5 rows x 7 columns]"
            ]
          },
          "metadata": {
            "tags": []
          },
          "execution_count": 7
        }
      ]
    },
    {
      "cell_type": "code",
      "metadata": {
        "id": "oza_GfRYzCrJ",
        "colab_type": "code",
        "outputId": "3798f3ec-af8a-4e79-86fb-6d3fb1dfe99b",
        "colab": {
          "base_uri": "https://localhost:8080/",
          "height": 1000
        }
      },
      "source": [
        "df.head()\n",
        "\n",
        "df.loc[:,'Date']"
      ],
      "execution_count": 8,
      "outputs": [
        {
          "output_type": "execute_result",
          "data": {
            "text/plain": [
              "0       Jul 11, 2019\n",
              "1       Jul 10, 2019\n",
              "2       Jul 09, 2019\n",
              "3       Jul 08, 2019\n",
              "4       Jul 07, 2019\n",
              "5       Jul 06, 2019\n",
              "6       Jul 05, 2019\n",
              "7       Jul 04, 2019\n",
              "8       Jul 03, 2019\n",
              "9       Jul 02, 2019\n",
              "10      Jul 01, 2019\n",
              "11      Jun 30, 2019\n",
              "12      Jun 29, 2019\n",
              "13      Jun 28, 2019\n",
              "14      Jun 27, 2019\n",
              "15      Jun 26, 2019\n",
              "16      Jun 25, 2019\n",
              "17      Jun 24, 2019\n",
              "18      Jun 23, 2019\n",
              "19      Jun 22, 2019\n",
              "20      Jun 21, 2019\n",
              "21      Jun 20, 2019\n",
              "22      Jun 19, 2019\n",
              "23      Jun 18, 2019\n",
              "24      Jun 17, 2019\n",
              "25      Jun 16, 2019\n",
              "26      Jun 15, 2019\n",
              "27      Jun 14, 2019\n",
              "28      Jun 13, 2019\n",
              "29      Jun 12, 2019\n",
              "            ...     \n",
              "2232    May 27, 2013\n",
              "2233    May 26, 2013\n",
              "2234    May 25, 2013\n",
              "2235    May 24, 2013\n",
              "2236    May 23, 2013\n",
              "2237    May 22, 2013\n",
              "2238    May 21, 2013\n",
              "2239    May 20, 2013\n",
              "2240    May 19, 2013\n",
              "2241    May 18, 2013\n",
              "2242    May 17, 2013\n",
              "2243    May 16, 2013\n",
              "2244    May 15, 2013\n",
              "2245    May 14, 2013\n",
              "2246    May 13, 2013\n",
              "2247    May 12, 2013\n",
              "2248    May 11, 2013\n",
              "2249    May 10, 2013\n",
              "2250    May 09, 2013\n",
              "2251    May 08, 2013\n",
              "2252    May 07, 2013\n",
              "2253    May 06, 2013\n",
              "2254    May 05, 2013\n",
              "2255    May 04, 2013\n",
              "2256    May 03, 2013\n",
              "2257    May 02, 2013\n",
              "2258    May 01, 2013\n",
              "2259    Apr 30, 2013\n",
              "2260    Apr 29, 2013\n",
              "2261    Apr 28, 2013\n",
              "Name: Date, Length: 2262, dtype: object"
            ]
          },
          "metadata": {
            "tags": []
          },
          "execution_count": 8
        }
      ]
    },
    {
      "cell_type": "code",
      "metadata": {
        "id": "vekR1vPLQFJn",
        "colab_type": "code",
        "colab": {
          "base_uri": "https://localhost:8080/",
          "height": 342
        },
        "outputId": "80e57cb5-7a64-48b0-eaee-443188e752c6"
      },
      "source": [
        "from sklearn.preprocessing import LabelEncoder\n",
        "import numpy as np \n",
        "from matplotlib import pyplot as plt\n",
        "import pandas as pd \n",
        "url = 'https://raw.githubusercontent.com/shanksghub/bitcoin/master/convertcsv.csv'\n",
        "df= pd.read_csv(url) \n",
        "X=df['Date']\n",
        "y = df['Market Cap']\n",
        "le= LabelEncoder() \n",
        "X= le.fit_transform(X)\n",
        "X=x.reshape(2262,1)\n",
        "from sklearn.model_selection import train_test_split\n",
        "X_train, X_test, y_train, y_test = train_test_split(X, y, test_size=0.3, random_state=101)\n",
        "\n",
        "from sklearn.linear_model import LinearRegression\n",
        "\n",
        "lm = LinearRegression(fit_intercept=False, normalize=True)\n",
        "lm.fit(X_train,y_train)\n",
        "print('Coefficients: \\n', lm.coef_)\n",
        "\n",
        "predictions = lm.predict( X_test)\n",
        "\n",
        "plt.scatter(y_test,predictions)\n",
        "plt.xlabel('Y Test')\n",
        "plt.ylabel('Predicted Y')"
      ],
      "execution_count": 9,
      "outputs": [
        {
          "output_type": "stream",
          "text": [
            "Coefficients: \n",
            " [28068807.35382111]\n"
          ],
          "name": "stdout"
        },
        {
          "output_type": "execute_result",
          "data": {
            "text/plain": [
              "Text(0, 0.5, 'Predicted Y')"
            ]
          },
          "metadata": {
            "tags": []
          },
          "execution_count": 9
        },
        {
          "output_type": "display_data",
          "data": {
            "image/png": "[encoded data removed]",
            "text/plain": [
              "<Figure size 432x288 with 1 Axes>"
            ]
          },
          "metadata": {
            "tags": []
          }
        }
      ]
    },
    {
      "cell_type": "code",
      "metadata": {
        "id": "ZLcqyIZ72kTd",
        "colab_type": "code",
        "colab": {
          "base_uri": "https://localhost:8080/",
          "height": 342
        },
        "outputId": "3896edad-5754-41ca-b55d-d29e0697259f"
      },
      "source": [
        "print('Coefficients: \\n', lm.coef_)\n",
        "\n",
        "predictions = lm.predict( X_test)\n",
        "\n",
        "plt.scatter(y_test,predictions)\n",
        "plt.xlabel('Y Test')\n",
        "plt.ylabel('Predicted Y')"
      ],
      "execution_count": 3,
      "outputs": [
        {
          "output_type": "stream",
          "text": [
            "Coefficients: \n",
            " [28068807.35382111]\n"
          ],
          "name": "stdout"
        },
        {
          "output_type": "execute_result",
          "data": {
            "text/plain": [
              "Text(0, 0.5, 'Predicted Y')"
            ]
          },
          "metadata": {
            "tags": []
          },
          "execution_count": 3
        },
        {
          "output_type": "display_data",
          "data": {
            "image/png": "[encoded data removed]",
            "text/plain": [
              "<Figure size 432x288 with 1 Axes>"
            ]
          },
          "metadata": {
            "tags": []
          }
        }
      ]
    },
    {
      "cell_type": "code",
      "metadata": {
        "id": "Dlhyp4Iw2vBD",
        "colab_type": "code",
        "colab": {
          "base_uri": "https://localhost:8080/",
          "height": 69
        },
        "outputId": "a1462a88-b996-4999-9720-9f1d2a4ab86f"
      },
      "source": [
        "from sklearn import metrics\n",
        "\n",
        "print('MAE:', metrics.mean_absolute_error(y_test, predictions))\n",
        "print('MSE:', metrics.mean_squared_error(y_test, predictions))\n",
        "print('RMSE:', np.sqrt(metrics.mean_squared_error(y_test, predictions)))"
      ],
      "execution_count": 4,
      "outputs": [
        {
          "output_type": "stream",
          "text": [
            "MAE: 43548255705.21359\n",
            "MSE: 3.8406877282523016e+21\n",
            "RMSE: 61973282374.361145\n"
          ],
          "name": "stdout"
        }
      ]
    },
    {
      "cell_type": "code",
      "metadata": {
        "id": "j9uVdTrjRaZp",
        "colab_type": "code",
        "colab": {}
      },
      "source": [
        ""
      ],
      "execution_count": 0,
      "outputs": []
    },
    {
      "cell_type": "code",
      "metadata": {
        "id": "C99Rwl1wRajV",
        "colab_type": "code",
        "colab": {
          "base_uri": "https://localhost:8080/",
          "height": 1000
        },
        "outputId": "774bed7f-4300-46ef-978a-abd81697f52c"
      },
      "source": [
        "\n",
        "import pickle \n",
        "  \n",
        "# Save the trained model as a pickle string. \n",
        "saved_model = pickle.dumps(lm) \n",
        "  \n",
        "# Load the pickled model \n",
        "lm_from_pickle = pickle.loads(saved_model) \n",
        "  \n",
        "# Use the loaded pickled model to make predictions \n",
        "lm_from_pickle.predict(X_test) \n"
      ],
      "execution_count": 12,
      "outputs": [
        {
          "output_type": "execute_result",
          "data": {
            "text/plain": [
              "array([5.05238532e+09, 1.41466789e+10, 4.81941422e+10, 5.01028211e+10,\n",
              "       1.21257248e+10, 5.10852294e+10, 5.79901560e+10, 4.87274496e+10,\n",
              "       4.29172064e+10, 1.79640367e+09, 2.77881193e+09, 3.87068853e+10,\n",
              "       2.53180642e+10, 6.03760046e+10, 4.07559083e+10, 1.97323716e+10,\n",
              "       1.00205642e+10, 1.75149358e+10, 6.22004771e+10, 2.29602844e+10,\n",
              "       2.31006285e+10, 1.23502752e+10, 3.45807707e+10, 4.62854633e+10,\n",
              "       4.95695138e+10, 3.14370642e+10, 4.30575505e+10, 9.88022019e+09,\n",
              "       4.94011009e+09, 4.71555964e+09, 5.09168165e+10, 6.01514542e+10,\n",
              "       8.98201835e+08, 6.29583349e+10, 8.30836698e+09, 1.09749037e+10,\n",
              "       7.74699083e+09, 1.43712294e+10, 1.39501973e+10, 4.37873395e+09,\n",
              "       5.85515321e+10, 3.21387844e+10, 4.15137661e+10, 3.35702936e+10,\n",
              "       2.85179083e+10, 1.62799083e+10, 1.49045367e+10, 4.36750642e+10,\n",
              "       3.56473853e+10, 6.26215092e+10, 6.28460597e+10, 5.50148624e+09,\n",
              "       3.71350321e+10, 6.31548165e+09, 4.72959404e+10, 3.86788165e+10,\n",
              "       1.36133716e+10, 5.75691239e+10, 3.87349541e+09, 1.63921835e+10,\n",
              "       4.18786606e+10, 3.17458211e+10, 3.18580963e+10, 4.46013349e+10,\n",
              "       4.97940642e+10, 5.26851514e+10, 5.50148624e+10, 7.94347248e+09,\n",
              "       5.01589587e+10, 5.22079817e+10, 5.24044633e+10, 7.91540367e+09,\n",
              "       2.73390184e+10, 5.76813991e+10, 5.60253395e+10, 9.54339450e+09,\n",
              "       5.43412110e+10, 1.16766239e+10, 1.86376881e+10, 1.05819404e+10,\n",
              "       2.15568440e+10, 2.34655229e+10, 4.18225230e+09, 3.52263532e+10,\n",
              "       4.60047753e+10, 2.98371422e+10, 2.71425367e+10, 3.06230688e+10,\n",
              "       2.92757661e+10, 2.24831147e+10, 7.26982110e+09, 5.52955505e+09,\n",
              "       2.89389404e+10, 1.12275229e+09, 3.48053211e+10, 1.17888991e+09,\n",
              "       4.14856973e+10, 2.34093853e+10, 2.93038349e+10, 4.11488716e+10,\n",
              "       5.10010230e+10, 6.02917982e+10, 5.85234633e+10, 5.81024312e+10,\n",
              "       3.66297936e+10, 6.21724083e+10, 6.13584129e+10, 2.41391743e+09,\n",
              "       2.79846009e+10, 1.01047706e+09, 6.59616973e+09, 1.54097752e+10,\n",
              "       1.73745918e+10, 1.61395642e+10, 2.55987523e+10, 2.05463670e+10,\n",
              "       2.89108716e+10, 4.63696697e+10, 5.23763945e+10, 5.15904679e+10,\n",
              "       3.46088395e+10, 4.17383165e+10, 1.74026606e+09, 2.39426927e+10,\n",
              "       1.79078991e+10, 1.10029725e+10, 3.07634129e+10, 4.75766285e+10,\n",
              "       3.93524679e+10, 8.53291744e+09, 3.55070413e+10, 5.05799909e+10,\n",
              "       1.40344037e+09, 7.55050918e+09, 5.39482477e+10, 5.25167386e+10,\n",
              "       3.52824908e+10, 6.29021973e+10, 2.50093074e+10, 9.40305046e+09,\n",
              "       1.28835826e+10, 5.49867936e+10, 5.72884358e+10, 5.56323762e+10,\n",
              "       5.77375367e+10, 9.31884404e+09, 3.18300275e+10, 3.16616147e+10,\n",
              "       1.41747477e+10, 6.29302661e+10, 1.20415184e+10, 2.33813165e+10,\n",
              "       4.12892156e+10, 5.86357386e+10, 5.45938303e+10, 5.80743624e+10,\n",
              "       2.92476973e+10, 6.10215872e+10, 1.59992202e+10, 5.33307340e+08,\n",
              "       6.07689679e+10, 4.70713899e+10, 9.26270643e+09, 4.76327661e+10,\n",
              "       4.43487156e+09, 4.50223670e+10, 5.84111881e+10, 2.96125918e+10,\n",
              "       1.94797523e+10, 1.81324496e+10, 5.91690459e+10, 8.56098624e+09,\n",
              "       6.15829633e+10, 4.99344083e+10, 5.35552844e+10, 2.80407385e+10,\n",
              "       5.13939863e+10, 2.91073532e+10, 3.82858532e+10, 4.49100918e+10,\n",
              "       5.69516101e+10, 8.98201835e+09, 3.64894496e+10, 2.43075872e+10,\n",
              "       4.94011009e+10, 5.41166606e+10, 4.53872615e+10, 5.68674037e+10,\n",
              "       3.74437890e+10, 3.99980505e+10, 6.00953165e+10, 2.72267431e+10,\n",
              "       6.14987569e+10, 1.43150918e+09, 2.54584083e+10, 5.28816331e+10,\n",
              "       4.51627110e+10, 2.83775642e+10, 7.71892202e+09, 4.70433211e+10,\n",
              "       3.21949220e+10, 1.25186881e+10, 5.37798349e+10, 2.72267431e+09,\n",
              "       1.84692752e+10, 4.14576285e+10, 4.59205688e+10, 5.83269817e+10,\n",
              "       2.86582523e+10, 1.35010963e+10, 2.43917936e+10, 2.61039908e+09,\n",
              "       1.56904633e+10, 3.45246330e+10, 2.20620826e+10, 2.16129817e+09,\n",
              "       5.55762386e+10, 1.93394083e+10, 4.05594266e+10, 5.19272936e+10,\n",
              "       5.43973487e+10, 3.82297156e+10, 3.76122019e+09, 6.08531743e+10,\n",
              "       4.05032890e+10, 4.80818670e+10, 3.53666973e+10, 5.75410551e+10,\n",
              "       3.48333899e+10, 5.21799129e+10, 3.65736560e+10, 1.55220505e+10,\n",
              "       1.34449587e+10, 5.24325321e+10, 4.45732661e+10, 3.54789725e+10,\n",
              "       1.02170459e+10, 3.12405826e+10, 1.12275229e+10, 5.15343303e+10,\n",
              "       2.19217385e+10, 4.57521560e+09, 5.01870275e+10, 2.41953119e+10,\n",
              "       3.19984404e+09, 1.43150918e+10, 3.93243991e+10, 4.44609908e+10,\n",
              "       5.27693578e+10, 3.86226789e+10, 1.65886651e+10, 4.89800688e+10,\n",
              "       2.73109496e+10, 1.44835046e+10, 5.19553624e+10, 5.45657615e+10,\n",
              "       3.71631009e+10, 6.30425413e+10, 2.02376101e+10, 6.24530964e+10,\n",
              "       3.32896055e+10, 5.80462936e+10, 7.41016514e+09, 1.18450367e+10,\n",
              "       5.50710000e+10, 5.99269037e+10, 4.62293257e+10, 8.13995413e+09,\n",
              "       1.30519954e+10, 3.40755321e+10, 5.17308120e+10, 2.77881193e+10,\n",
              "       3.08756881e+08, 1.05258028e+10, 5.22079817e+09, 3.81735780e+10,\n",
              "       2.31567661e+10, 4.51907798e+10, 3.94366743e+10, 1.43431606e+10,\n",
              "       2.55426147e+09, 3.06792064e+10, 4.54433991e+10, 3.50018028e+10,\n",
              "       1.22099312e+10, 1.70377661e+10, 5.64744404e+10, 1.60553578e+10,\n",
              "       5.78217431e+10, 2.55706835e+10, 2.20340138e+10, 4.85309679e+10,\n",
              "       5.98988349e+10, 3.75279954e+10, 1.57746697e+10, 1.27432385e+10,\n",
              "       1.87499633e+10, 3.76402707e+10, 1.59992202e+09, 2.32971101e+10,\n",
              "       1.38098532e+10, 5.71480918e+10, 5.08045413e+10, 1.93674771e+09,\n",
              "       3.74999266e+10, 2.52619266e+10, 1.38659908e+10, 8.70133028e+08,\n",
              "       2.24550459e+09, 2.43637248e+10, 4.22154863e+10, 1.92552018e+10,\n",
              "       1.22660688e+10, 4.13453532e+10, 2.20901514e+10, 1.45957798e+10,\n",
              "       1.90025826e+10, 2.36339358e+10, 2.58233028e+10, 5.08326101e+10,\n",
              "       2.37181422e+10, 2.65530918e+10, 1.78236927e+10, 2.87985963e+10,\n",
              "       8.67326147e+09, 3.89875734e+10, 1.96762340e+10, 6.45582569e+08,\n",
              "       3.19423028e+10, 3.36825688e+08, 5.18711560e+10, 2.30164220e+09,\n",
              "       6.04602110e+10, 9.82408257e+08, 8.75746789e+09, 1.95078211e+10,\n",
              "       9.34691285e+09, 5.65305780e+10, 4.67626331e+10, 4.19909358e+10,\n",
              "       5.13378487e+10, 2.52057890e+10, 4.24119679e+10, 1.19011743e+10,\n",
              "       1.10871789e+10, 7.29788991e+08, 6.03479358e+10, 1.42870229e+10,\n",
              "       1.15924174e+10, 1.64202523e+10, 6.03479358e+09, 4.35627890e+10,\n",
              "       4.25803808e+10, 9.03815597e+09, 2.23989083e+10, 3.73595826e+10,\n",
              "       5.46780367e+10, 4.06997707e+09, 2.08270551e+10, 4.09523899e+10,\n",
              "       4.21874175e+10, 3.95208808e+10, 4.59486376e+10, 2.69460551e+09,\n",
              "       6.32670918e+10, 4.46294037e+10, 6.79265138e+09, 5.62218211e+10,\n",
              "       5.17588808e+10, 5.10290918e+10, 5.52674817e+10, 4.86713120e+10,\n",
              "       4.89520000e+10, 6.00672477e+09, 4.69029771e+10, 8.72939909e+09,\n",
              "       6.48389450e+09, 2.45321376e+10, 3.39071193e+10, 5.10571606e+10,\n",
              "       6.20039954e+10, 4.65942202e+10, 3.80332340e+10, 7.46630276e+09,\n",
              "       3.67140000e+10, 5.29097019e+10, 3.98577064e+10, 3.32334679e+10,\n",
              "       3.03143119e+10, 2.59075092e+10, 5.97865597e+10, 4.33663074e+10,\n",
              "       4.64538762e+10, 1.92832707e+10, 1.83008624e+10, 3.75560642e+10,\n",
              "       5.51552065e+10, 6.05444175e+10, 3.07353441e+10, 4.75485597e+10,\n",
              "       5.62779587e+10, 5.64183028e+09, 1.63641147e+10, 1.97604404e+10,\n",
              "       5.33026652e+10, 1.49326055e+10, 2.38023486e+10, 9.59953212e+09,\n",
              "       6.33512982e+10, 2.75916376e+10, 3.69385505e+10, 8.64519266e+09,\n",
              "       2.01534037e+10, 3.22510596e+10, 1.05538716e+10, 4.96817890e+09,\n",
              "       1.06100092e+10, 4.70152523e+10, 5.28535642e+10, 4.26365184e+10,\n",
              "       3.55351101e+10, 3.39351881e+10, 2.89108716e+09, 5.39201789e+10,\n",
              "       4.84186927e+10, 4.31136881e+10, 2.11358119e+10, 4.60889817e+10,\n",
              "       2.46724817e+10, 5.90567707e+10, 4.23838991e+09, 1.71219725e+10,\n",
              "       4.37592707e+10, 3.27843670e+10, 2.35777982e+09, 1.55781881e+10,\n",
              "       5.77094679e+10, 2.20059450e+10, 2.40830367e+10, 3.77806147e+10,\n",
              "       1.45957798e+09, 4.55556743e+10, 4.04190826e+10, 3.12967202e+10,\n",
              "       2.07709174e+09, 8.19609175e+09, 1.20134495e+10, 2.14726376e+10,\n",
              "       1.28555138e+10, 6.06005551e+10, 3.22229908e+10, 3.96050872e+10,\n",
              "       2.22304954e+10, 3.90156422e+09, 3.41597385e+10, 5.59972707e+10,\n",
              "       4.46574725e+10, 5.63340964e+10, 1.79640367e+10, 1.90867890e+09,\n",
              "       2.03218165e+10, 6.14426193e+10, 1.13397982e+10, 2.69179863e+10,\n",
              "       2.04902294e+10, 1.61114954e+10, 4.08962523e+10, 2.71144679e+10,\n",
              "       4.13172844e+10, 1.53536376e+10, 1.39782661e+10, 1.79359679e+10,\n",
              "       5.83831193e+10, 3.90156422e+10, 3.78086835e+10, 3.83139220e+10,\n",
              "       1.56062569e+10, 4.38996147e+10, 3.08476193e+10, 2.14445688e+10,\n",
              "       2.21182202e+10, 6.90492661e+09, 5.65586468e+10, 2.13884312e+10,\n",
              "       4.04752202e+10, 3.50860092e+09, 3.13809266e+10, 2.88547340e+10,\n",
              "       4.03348762e+10, 1.71781101e+10, 1.40624725e+10, 2.02937477e+10,\n",
              "       3.01458991e+10, 1.25467569e+10, 4.81380046e+10, 1.29116514e+09,\n",
              "       2.40549679e+10, 4.44890597e+10, 3.30650551e+10, 1.38379220e+10,\n",
              "       5.45096239e+10, 4.42645092e+10, 1.26309633e+10, 5.02712340e+10,\n",
              "       4.01383945e+10, 4.90923441e+10, 1.77394862e+10, 2.91915596e+09,\n",
              "       6.23127523e+10, 4.86151743e+10, 3.88191606e+10, 4.15418349e+10,\n",
              "       1.40905413e+10, 1.97043028e+10, 2.01253349e+10, 1.89464450e+10,\n",
              "       3.14932019e+10, 2.64688853e+10, 1.01328395e+10, 1.07784220e+10,\n",
              "       6.29864037e+10, 1.80763119e+10, 4.30294817e+10, 3.60403486e+10,\n",
              "       1.20976560e+10, 4.88958624e+10, 2.40268991e+10, 6.19759266e+10,\n",
              "       1.30800642e+10, 4.46294037e+09, 3.28966422e+10, 2.66372982e+10,\n",
              "       2.95564541e+10, 4.77169725e+10, 3.49175963e+10, 2.86863211e+10,\n",
              "       1.68412844e+10, 2.24550459e+10, 5.06361285e+10, 2.96687294e+10,\n",
              "       4.04471514e+10, 4.62012569e+10, 2.43356560e+10, 4.14295597e+10,\n",
              "       3.99419129e+10, 5.31342523e+10, 1.16485551e+10, 5.48745184e+10,\n",
              "       1.75710734e+10, 3.31773303e+10, 5.89444954e+10, 1.99288532e+09,\n",
              "       1.08064908e+10, 4.44048532e+10, 7.38209633e+09, 2.87424587e+10,\n",
              "       4.27487936e+10, 4.38154083e+10, 2.63566101e+10, 3.88472294e+10,\n",
              "       7.66278441e+09, 4.69871835e+10, 4.86993808e+10, 1.55501193e+10,\n",
              "       3.81174404e+10, 2.36900734e+10, 2.25673211e+10, 8.50484863e+09,\n",
              "       5.24886698e+09, 6.02075918e+10, 5.05238532e+08, 1.31923395e+09,\n",
              "       6.12180688e+10, 5.61376147e+08, 6.28741285e+09, 5.43131422e+10,\n",
              "       5.72603670e+10, 1.22941376e+10, 3.03704496e+10, 1.87780321e+10,\n",
              "       2.69741239e+10, 1.51571560e+10, 3.50298716e+10, 5.28254954e+10,\n",
              "       2.62443349e+10, 2.24269771e+10, 8.28029817e+09, 2.91354220e+10,\n",
              "       3.27282294e+10, 4.98221331e+10, 4.85590367e+10, 6.17513762e+09,\n",
              "       2.00130596e+10, 4.55837431e+10, 3.34299496e+10, 1.06380780e+10,\n",
              "       4.44329220e+10, 9.23463762e+09, 4.88677936e+10, 8.89781193e+09,\n",
              "       2.76477752e+10, 1.33326835e+10, 4.07278395e+10, 3.67420688e+10,\n",
              "       2.72548119e+10, 3.57035230e+10, 1.12836606e+10, 1.54378440e+09,\n",
              "       5.18430872e+10, 2.71706055e+10, 9.43111927e+09, 5.74007110e+10,\n",
              "       1.50729495e+10, 5.86638074e+10, 4.47697477e+10, 5.44534863e+09,\n",
              "       3.89595046e+10, 3.43281514e+10, 4.09804587e+09, 6.18917202e+10,\n",
              "       3.51421468e+10, 4.99063395e+10, 2.83494954e+10, 1.88061009e+09,\n",
              "       4.19628670e+10, 1.86096193e+10, 4.09243211e+10, 7.35402753e+09,\n",
              "       3.87910918e+10, 4.80257294e+10, 4.15979725e+10, 4.41522340e+10,\n",
              "       3.64052431e+10, 3.94086055e+10, 5.20395688e+10, 4.61170505e+10,\n",
              "       4.72398028e+10, 4.33943762e+10, 3.91279175e+10, 3.87630230e+10,\n",
              "       3.16335459e+10, 1.65605963e+09, 3.59000046e+10, 1.98727156e+10,\n",
              "       1.79921055e+10, 1.04977340e+10, 2.94441789e+10, 2.38584863e+10,\n",
              "       5.40043853e+10, 6.32951606e+10, 1.96481651e+09, 8.22416055e+09,\n",
              "       3.80051652e+10, 4.74643532e+10, 4.40118899e+10, 4.59767064e+10,\n",
              "       2.38865551e+10, 2.02656789e+10, 2.27357340e+09, 3.00336239e+10,\n",
              "       4.72117340e+10, 3.98296376e+10, 2.17533257e+10, 2.82652890e+10,\n",
              "       2.81810826e+10, 4.67345642e+10, 3.99138441e+10, 4.77169725e+08,\n",
              "       4.74082156e+10, 5.26290138e+10, 8.39257340e+09, 4.66503578e+10,\n",
              "       1.73465229e+10, 1.50448807e+10, 7.97154129e+09, 2.64127477e+10,\n",
              "       9.15043120e+09, 1.72342477e+10, 2.10796743e+10])"
            ]
          },
          "metadata": {
            "tags": []
          },
          "execution_count": 12
        }
      ]
    }
  ]
}